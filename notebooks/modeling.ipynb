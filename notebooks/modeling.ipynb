{
 "cells": [
  {
   "cell_type": "code",
   "execution_count": 1,
   "id": "b908fb02-5eaf-490e-9d50-d1730847ca6a",
   "metadata": {},
   "outputs": [],
   "source": [
    "# import pandas\n",
    "import pandas as pd\n",
    "import os\n",
    "import sys\n",
    "sys.path.append(os.path.abspath(os.path.join(os.getcwd(), '../src')))\n",
    "\n",
    "from feautre_engineering.feautre_engineering import FeautreEngineering\n",
    "from modeling.modeling import Model"
   ]
  },
  {
   "cell_type": "code",
   "execution_count": 2,
   "id": "cb6fd73b-b85e-415e-a344-feb192ffd3b7",
   "metadata": {},
   "outputs": [],
   "source": [
    "# load csv data\n",
    "data = pd.read_csv(\"../data/data.csv\")"
   ]
  },
  {
   "cell_type": "code",
   "execution_count": 3,
   "id": "d671a57e-f5ee-4273-b9bc-8c2c65d5f40d",
   "metadata": {},
   "outputs": [],
   "source": [
    "# fe = FeautreEngineering(data)\n",
    "m = Model(data)"
   ]
  },
  {
   "cell_type": "code",
   "execution_count": 4,
   "id": "73ff6800-26c8-4091-ba13-32f1638dbe36",
   "metadata": {},
   "outputs": [
    {
     "name": "stdout",
     "output_type": "stream",
     "text": [
      "Data preprocessing completed: Shape of processed data = (95662, 296076)\n"
     ]
    }
   ],
   "source": [
    "# fe.normalize_data()\n",
    "m.preprocess_data()"
   ]
  },
  {
   "cell_type": "code",
   "execution_count": 5,
   "id": "7dccaacb-b38d-421e-86e3-246ef3c24aca",
   "metadata": {},
   "outputs": [
    {
     "name": "stdout",
     "output_type": "stream",
     "text": [
      "Training set: (76529, 296076), (76529,)\n",
      "Testing set: (19133, 296076), (19133,)\n"
     ]
    }
   ],
   "source": [
    "# estimated_data = fe.default_estimator_proxy()\n",
    "m.split_data()"
   ]
  },
  {
   "cell_type": "code",
   "execution_count": 6,
   "id": "12af5931-b4d1-4f85-bfc5-f75e48017e5a",
   "metadata": {},
   "outputs": [
    {
     "name": "stdout",
     "output_type": "stream",
     "text": [
      "Logistic Regression Results:\n",
      "Accuracy: 0.9984320284325511\n",
      "Precision: 0.75\n",
      "Recall: 0.25\n",
      "F1 Score: 0.375\n",
      "ROC AUC Score: 0.6249214536314605\n",
      "Classification report:\n",
      "              precision    recall  f1-score   support\n",
      "\n",
      "           0       1.00      1.00      1.00     19097\n",
      "           1       0.75      0.25      0.38        36\n",
      "\n",
      "    accuracy                           1.00     19133\n",
      "   macro avg       0.87      0.62      0.69     19133\n",
      "weighted avg       1.00      1.00      1.00     19133\n",
      "\n",
      "Confusion matrix[[19094     3]\n",
      " [   27     9]]\n",
      "Random Forest Results:\n",
      "Accuracy: 0.9984320284325511\n",
      "Precision: 0.75\n",
      "Recall: 0.25\n",
      "F1 Score: 0.375\n",
      "ROC AUC Score: 0.6249214536314605\n",
      "Classification report:\n",
      "              precision    recall  f1-score   support\n",
      "\n",
      "           0       1.00      1.00      1.00     19097\n",
      "           1       0.95      0.56      0.70        36\n",
      "\n",
      "    accuracy                           1.00     19133\n",
      "   macro avg       0.98      0.78      0.85     19133\n",
      "weighted avg       1.00      1.00      1.00     19133\n",
      "\n",
      "Confusion matrix[[19096     1]\n",
      " [   16    20]]\n"
     ]
    }
   ],
   "source": [
    "m.train_model()"
   ]
  },
  {
   "cell_type": "code",
   "execution_count": null,
   "id": "38a21a70-3010-4d73-9674-013bfd0cb667",
   "metadata": {},
   "outputs": [],
   "source": [
    "m.grid_search_rf()"
   ]
  },
  {
   "cell_type": "code",
   "execution_count": null,
   "id": "a0dca7c2-e8f7-4d13-92e8-d44ae52906f2",
   "metadata": {},
   "outputs": [],
   "source": [
    "m.random_search_rf()"
   ]
  },
  {
   "cell_type": "code",
   "execution_count": null,
   "id": "541b2a2d-0ddd-42c5-8844-bf50858754d1",
   "metadata": {},
   "outputs": [],
   "source": []
  }
 ],
 "metadata": {
  "kernelspec": {
   "display_name": "Python 3 (ipykernel)",
   "language": "python",
   "name": "python3"
  },
  "language_info": {
   "codemirror_mode": {
    "name": "ipython",
    "version": 3
   },
   "file_extension": ".py",
   "mimetype": "text/x-python",
   "name": "python",
   "nbconvert_exporter": "python",
   "pygments_lexer": "ipython3",
   "version": "3.12.8"
  }
 },
 "nbformat": 4,
 "nbformat_minor": 5
}
